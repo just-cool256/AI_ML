{
 "cells": [
  {
   "cell_type": "code",
   "execution_count": 1,
   "metadata": {},
   "outputs": [
    {
     "name": "stdout",
     "output_type": "stream",
     "text": [
      "hello 20\n",
      "one more\n",
      "hello 17\n",
      "one more\n",
      "hello 14\n"
     ]
    }
   ],
   "source": [
    "a = 20\n",
    "while a > 0:\n",
    "    print(\"hello\", a)  \n",
    "    a -= 3\n",
    "    if a == 11:\n",
    "        break\n",
    "    print(\"one more\")\n",
    "else:\n",
    "    print(\"Achha ab pata chala\")"
   ]
  },
  {
   "cell_type": "code",
   "execution_count": null,
   "metadata": {},
   "outputs": [],
   "source": [
    "#while with else- when while is done with it's work else statement is executed if while doesn't break in between"
   ]
  },
  {
   "cell_type": "code",
   "execution_count": 4,
   "metadata": {},
   "outputs": [
    {
     "data": {
      "text/plain": [
       "[8, 'hihi', 'nicenice', 46]"
      ]
     },
     "execution_count": 4,
     "metadata": {},
     "output_type": "execute_result"
    }
   ],
   "source": [
    "a = [4, \"hi\", \"nice\", 23]\n",
    "# Comprehension\n",
    "## For-loop Statement which are of one liner  \n",
    "b = [val*2 for val in a]\n",
    "b"
   ]
  },
  {
   "cell_type": "code",
   "execution_count": null,
   "metadata": {},
   "outputs": [],
   "source": [
    "# Comprehension\n",
    "# For-loop statement which is one liner  \n",
    "#list comprehension\n",
    "#  [output for-loop] - map\n",
    "#  [output for-loop if-statement] - Filter\n",
    "#Dictionary Compr.\n",
    "#  {key_op:value_op for-loop}\n",
    "#set compr \n",
    "#  {output for-loop}\n",
    "#generator compr.\n",
    "#  (output for-each)"
   ]
  },
  {
   "cell_type": "code",
   "execution_count": 8,
   "metadata": {},
   "outputs": [],
   "source": [
    "k = [4, 5,3,8,0,3,84,8,0,3,5, 27, 29]"
   ]
  },
  {
   "cell_type": "code",
   "execution_count": 19,
   "metadata": {},
   "outputs": [
    {
     "data": {
      "text/plain": [
       "[2, 10, 6, 4, 0, 6, 84, 4, 0, 6, 10, 54, 58]"
      ]
     },
     "execution_count": 19,
     "metadata": {},
     "output_type": "execute_result"
    }
   ],
   "source": [
    "p = [val*2 if val%2 else (val//2 if val<20 else val) for val in k] # if-else is necessary in else\n",
    "p"
   ]
  },
  {
   "cell_type": "code",
   "execution_count": 15,
   "metadata": {},
   "outputs": [
    {
     "data": {
      "text/plain": [
       "[2, 10, 6, 4, 0, 6, 42, 4, 0, 6, 10, 54, 58]"
      ]
     },
     "execution_count": 15,
     "metadata": {},
     "output_type": "execute_result"
    }
   ],
   "source": [
    "p = [val*2 if val%2 else val//2 for val in k]\n",
    "p"
   ]
  },
  {
   "cell_type": "code",
   "execution_count": 22,
   "metadata": {},
   "outputs": [
    {
     "data": {
      "text/plain": [
       "{4: 16, 8: 64, 0: 0, 84: 7056}"
      ]
     },
     "execution_count": 22,
     "metadata": {},
     "output_type": "execute_result"
    }
   ],
   "source": [
    "m = {val:val**2 for val in k if val%2 == 0}\n",
    "m"
   ]
  },
  {
   "cell_type": "code",
   "execution_count": 23,
   "metadata": {},
   "outputs": [
    {
     "name": "stdout",
     "output_type": "stream",
     "text": [
      "(4, 16)\n",
      "(8, 64)\n",
      "(0, 0)\n",
      "(84, 7056)\n"
     ]
    }
   ],
   "source": [
    "for i in m.items():\n",
    "    print(i) "
   ]
  },
  {
   "cell_type": "code",
   "execution_count": 24,
   "metadata": {},
   "outputs": [
    {
     "name": "stdout",
     "output_type": "stream",
     "text": [
      "4 16\n",
      "8 64\n",
      "0 0\n",
      "84 7056\n"
     ]
    }
   ],
   "source": [
    "for key, value in m.items():\n",
    "    print(key, value)"
   ]
  },
  {
   "cell_type": "code",
   "execution_count": null,
   "metadata": {},
   "outputs": [],
   "source": []
  }
 ],
 "metadata": {
  "kernelspec": {
   "display_name": "Python 3",
   "language": "python",
   "name": "python3"
  },
  "language_info": {
   "codemirror_mode": {
    "name": "ipython",
    "version": 3
   },
   "file_extension": ".py",
   "mimetype": "text/x-python",
   "name": "python",
   "nbconvert_exporter": "python",
   "pygments_lexer": "ipython3",
   "version": "3.10.0"
  },
  "orig_nbformat": 4
 },
 "nbformat": 4,
 "nbformat_minor": 2
}
